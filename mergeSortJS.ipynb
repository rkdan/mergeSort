{
 "cells": [
  {
   "cell_type": "code",
   "execution_count": 1,
   "metadata": {},
   "outputs": [
    {
     "name": "stdout",
     "output_type": "stream",
     "text": [
      "Total time taken to mergeSort a list of length 10000000: 4.561s\n"
     ]
    }
   ],
   "source": [
    "//=== Create a list of n random integers from 0 to n-1 ===\n",
    "\n",
    "for (var alist = [], i = 0; i < 10000000; ++i) alist[i] = i;\n",
    "\n",
    "function shuffle(array) {\n",
    "  var tmp, current, top = array.length;\n",
    "  if(top) while(--top) {\n",
    "    current = Math.floor(Math.random() * (top + 1));\n",
    "    tmp = array[current];\n",
    "    array[current] = array[top];\n",
    "    array[top] = tmp;\n",
    "  }\n",
    "  return array;\n",
    "}\n",
    "\n",
    "alist = shuffle(alist);\n",
    "\n",
    "//=== Merge sort. If you want, you can uncomment the console.log lines, and it'll show you what happens during the sort. ===\n",
    "\n",
    "function mergeSort(alist) {\n",
    "    //console.log(\"Splitting\", alist);\n",
    "    if (alist.length > 1) {\n",
    "        let mid = alist.length / 2;\n",
    "        mid = Math.floor(mid);\n",
    "        let left_half = alist.slice(0,mid);\n",
    "        let right_half = alist.slice(mid,alist.length);\n",
    "\n",
    "        mergeSort(left_half);\n",
    "        mergeSort(right_half);\n",
    "\n",
    "        let i = 0;\n",
    "        let j = 0;\n",
    "        let k = 0;\n",
    "\n",
    "        while ((i < left_half.length) && (j < right_half.length)) {\n",
    "            if (left_half[i] < right_half[j]) {\n",
    "                alist[k++] = left_half[i++];\n",
    "            } else {\n",
    "                alist[k++] = right_half[j++];\n",
    "            }\n",
    "        }\n",
    "        \n",
    "        while (i < left_half.length) {\n",
    "            alist[k++] = left_half[i++];\n",
    "        }\n",
    "        \n",
    "        while (j < right_half.length) {\n",
    "            alist[k++] = right_half[j++];\n",
    "        }\n",
    "    }\n",
    "    //console.log(\"Merging\", alist)\n",
    "}\n",
    "   \n",
    "let t0 = new Date().getTime();\n",
    "mergeSort(alist);\n",
    "let t1 = new Date().getTime();\n",
    "let total_time = (t1 - t0) / 1000\n",
    "\n",
    "console.log('Total time taken to mergeSort a list of length', alist.length + ':', total_time + 's')"
   ]
  }
 ],
 "metadata": {
  "kernelspec": {
   "display_name": "Javascript (Node.js)",
   "language": "javascript",
   "name": "javascript"
  },
  "language_info": {
   "file_extension": ".js",
   "mimetype": "application/javascript",
   "name": "javascript",
   "version": "8.9.3"
  }
 },
 "nbformat": 4,
 "nbformat_minor": 2
}
